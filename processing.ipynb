{
 "cells": [
  {
   "cell_type": "code",
   "execution_count": 2,
   "metadata": {},
   "outputs": [],
   "source": [
    "import mne"
   ]
  },
  {
   "cell_type": "code",
   "execution_count": 3,
   "metadata": {},
   "outputs": [],
   "source": [
    "import matplotlib.pyplot as plt"
   ]
  },
  {
   "cell_type": "code",
   "execution_count": 4,
   "metadata": {},
   "outputs": [],
   "source": [
    "import json"
   ]
  },
  {
   "cell_type": "code",
   "execution_count": 5,
   "metadata": {},
   "outputs": [],
   "source": [
    "import pandas as pd"
   ]
  },
  {
   "cell_type": "code",
   "execution_count": 6,
   "metadata": {},
   "outputs": [],
   "source": [
    "import numpy as np"
   ]
  },
  {
   "cell_type": "code",
   "execution_count": 7,
   "metadata": {},
   "outputs": [
    {
     "name": "stdout",
     "output_type": "stream",
     "text": [
      "Reading ./data/sub-001_task-ContinuousVideoGamePlay_run-02_eeg.fdt\n",
      "Reading 0 ... 1398674  =      0.000 ...  2797.348 secs...\n"
     ]
    },
    {
     "name": "stderr",
     "output_type": "stream",
     "text": [
      "<ipython-input-7-86088f157167>:1: RuntimeWarning: The data contains 'boundary' events, indicating data discontinuities. Be cautious of filtering and epoching around these events.\n",
      "  raw = mne.io.read_raw_eeglab(\"./data/sub-001_task-ContinuousVideoGamePlay_run-02_eeg.set\", preload=True)\n"
     ]
    }
   ],
   "source": [
    "raw = mne.io.read_raw_eeglab(\"./data/sub-001_task-ContinuousVideoGamePlay_run-02_eeg.set\", preload=True)"
   ]
  },
  {
   "cell_type": "code",
   "execution_count": 8,
   "metadata": {},
   "outputs": [],
   "source": [
    "log_df = pd.read_csv(\"./data/Axon_GAME_Log_601_2015-01-21.15-47.csv\")"
   ]
  },
  {
   "cell_type": "code",
   "execution_count": 9,
   "metadata": {},
   "outputs": [],
   "source": [
    "events_df = pd.read_csv(\"./data/sub-001_task-ContinuousVideoGamePlay_run-02_events.tsv\", sep=\"\\t\")"
   ]
  },
  {
   "cell_type": "code",
   "execution_count": 10,
   "metadata": {},
   "outputs": [],
   "source": [
    "%matplotlib inline"
   ]
  },
  {
   "cell_type": "markdown",
   "metadata": {},
   "source": [
    "# First hypothesis\n",
    "How user engagement differs for shooting and receiving damage"
   ]
  },
  {
   "cell_type": "markdown",
   "metadata": {},
   "source": [
    "Get event types"
   ]
  },
  {
   "cell_type": "code",
   "execution_count": 11,
   "metadata": {},
   "outputs": [],
   "source": [
    "event_types_df = events_df.groupby([\"value\", \"trial_type\"]).size().reset_index()"
   ]
  },
  {
   "cell_type": "code",
   "execution_count": 12,
   "metadata": {},
   "outputs": [],
   "source": [
    "event_types = event_types_df.set_index(\"value\")[\"trial_type\"].to_dict()"
   ]
  },
  {
   "cell_type": "code",
   "execution_count": 13,
   "metadata": {},
   "outputs": [
    {
     "name": "stdout",
     "output_type": "stream",
     "text": [
      "Used Annotations descriptions: ['S 90', 'S 91', 'S 92', 'S 93', 'S 94', 'S 97', 'S 98', 'S 99', 'S100', 'S101', 'S102', 'S103', 'S104', 'boundary']\n"
     ]
    }
   ],
   "source": [
    "events, event_id = mne.events_from_annotations(raw)"
   ]
  },
  {
   "cell_type": "code",
   "execution_count": 14,
   "metadata": {},
   "outputs": [],
   "source": [
    "named_event_id = {event_types[k]: v for k, v in event_id.items()}"
   ]
  },
  {
   "cell_type": "markdown",
   "metadata": {},
   "source": [
    "Extract epochs, from 0 to 3 seconds after stimulus"
   ]
  },
  {
   "cell_type": "code",
   "execution_count": 15,
   "metadata": {},
   "outputs": [
    {
     "name": "stdout",
     "output_type": "stream",
     "text": [
      "Not setting metadata\n",
      "Not setting metadata\n",
      "3896 matching events found\n",
      "No baseline correction applied\n",
      "0 projection items activated\n",
      "Loading data for 3896 events and 1501 original time points ...\n",
      "4 bad epochs dropped\n"
     ]
    }
   ],
   "source": [
    "epochs = mne.Epochs(\n",
    "    raw,\n",
    "    events,\n",
    "    event_id=named_event_id,\n",
    "    tmin=0,\n",
    "    tmax=3,\n",
    "    baseline=None,\n",
    "    preload=True\n",
    ")"
   ]
  },
  {
   "cell_type": "code",
   "execution_count": 16,
   "metadata": {},
   "outputs": [],
   "source": [
    "epochs_part = epochs.copy().pick([\"Fp1\"])"
   ]
  },
  {
   "cell_type": "markdown",
   "metadata": {},
   "source": [
    "Select events to compare"
   ]
  },
  {
   "cell_type": "code",
   "execution_count": 18,
   "metadata": {},
   "outputs": [],
   "source": [
    "event_one = 'SHOOT_BUTTON'\n",
    "event_two = 'PLAYER_CRASH_WALL'"
   ]
  },
  {
   "cell_type": "code",
   "execution_count": 19,
   "metadata": {},
   "outputs": [],
   "source": [
    "data_one = epochs_part[event_one].get_data()\n",
    "data_two = epochs_part[event_two].get_data()"
   ]
  },
  {
   "cell_type": "code",
   "execution_count": 20,
   "metadata": {},
   "outputs": [],
   "source": [
    "frequencies_one = np.abs(np.fft.fft(data_one, 500, axis=-1))[:, :, 0:30]\n",
    "frequencies_two = np.abs(np.fft.fft(data_two, 500, axis=-1))[:, :, 0:30]"
   ]
  },
  {
   "cell_type": "code",
   "execution_count": 21,
   "metadata": {},
   "outputs": [
    {
     "data": {
      "text/plain": [
       "<matplotlib.legend.Legend at 0x7fd65e77d1d0>"
      ]
     },
     "execution_count": 21,
     "metadata": {},
     "output_type": "execute_result"
    },
    {
     "data": {
      "image/png": "[encoded data removed]",
      "text/plain": [
       "<Figure size 432x288 with 1 Axes>"
      ]
     },
     "metadata": {
      "needs_background": "light"
     },
     "output_type": "display_data"
    }
   ],
   "source": [
    "plt.plot(np.arange(5, 30), frequencies_one[:, :, 5:30].mean(axis=0).reshape(-1), label=event_one)\n",
    "plt.plot(np.arange(5, 30), frequencies_two[:, :, 5:30].mean(axis=0).reshape(-1), label=event_two)\n",
    "plt.axvline(8)\n",
    "plt.axvline(14)\n",
    "plt.legend()\n",
    "# plt.xlim(5, 30)\n",
    "# plt.ylim(-9, -6)"
   ]
  },
  {
   "cell_type": "code",
   "execution_count": 25,
   "metadata": {},
   "outputs": [],
   "source": [
    "# Extraction of the selected frequencies, 8-12Hz\n",
    "sample_one = frequencies_one[:, :, 8:12].sum(axis=-1).reshape(-1)\n",
    "sample_two = frequencies_two[:, :, 8:12].sum(axis=-1).reshape(-1)"
   ]
  },
  {
   "cell_type": "code",
   "execution_count": 26,
   "metadata": {},
   "outputs": [],
   "source": [
    "bins=np.linspace(np.quantile(sample_two, 0.01), np.quantile(sample_two, 0.99), 20)"
   ]
  },
  {
   "cell_type": "code",
   "execution_count": 27,
   "metadata": {},
   "outputs": [
    {
     "data": {
      "text/plain": [
       "<matplotlib.legend.Legend at 0x7fd65edc2438>"
      ]
     },
     "execution_count": 27,
     "metadata": {},
     "output_type": "execute_result"
    },
    {
     "data": {
      "image/png": "[encoded data removed]",
      "text/plain": [
       "<Figure size 432x288 with 1 Axes>"
      ]
     },
     "metadata": {
      "needs_background": "light"
     },
     "output_type": "display_data"
    }
   ],
   "source": [
    "plt.hist(sample_one, bins=bins, density=True, alpha=0.5, label=event_one)\n",
    "plt.hist(sample_two, bins=bins, density=True, alpha=0.5, label=event_two)\n",
    "plt.legend()"
   ]
  },
  {
   "cell_type": "code",
   "execution_count": 28,
   "metadata": {},
   "outputs": [],
   "source": [
    "from scipy import stats"
   ]
  },
  {
   "cell_type": "code",
   "execution_count": 29,
   "metadata": {},
   "outputs": [
    {
     "data": {
      "text/plain": [
       "(0.0019023028775046072, 0.0022413572888160885)"
      ]
     },
     "execution_count": 29,
     "metadata": {},
     "output_type": "execute_result"
    }
   ],
   "source": [
    "sample_one.mean(), sample_two.mean()"
   ]
  },
  {
   "cell_type": "code",
   "execution_count": 30,
   "metadata": {},
   "outputs": [
    {
     "data": {
      "text/plain": [
       "MannwhitneyuResult(statistic=129484.0, pvalue=8.657524687195375e-10)"
      ]
     },
     "execution_count": 30,
     "metadata": {},
     "output_type": "execute_result"
    }
   ],
   "source": [
    "stats.mannwhitneyu(sample_one, sample_two)"
   ]
  },
  {
   "cell_type": "code",
   "execution_count": 31,
   "metadata": {},
   "outputs": [
    {
     "data": {
      "text/plain": [
       "Ttest_indResult(statistic=-3.423863896786633, pvalue=0.0006327169254471916)"
      ]
     },
     "execution_count": 31,
     "metadata": {},
     "output_type": "execute_result"
    }
   ],
   "source": [
    "stats.ttest_ind(sample_one, sample_two)"
   ]
  },
  {
   "cell_type": "markdown",
   "metadata": {},
   "source": [
    "# Second hypothesis\n",
    "How number of enemies on a screen affects engagement"
   ]
  },
  {
   "cell_type": "markdown",
   "metadata": {},
   "source": [
    "Merge event log and annotations"
   ]
  },
  {
   "cell_type": "code",
   "execution_count": 32,
   "metadata": {},
   "outputs": [],
   "source": [
    "event_seconds_log_1 = np.array([d['onset'] for d in list(raw.annotations) if d[\"description\"] == 'S 94'])"
   ]
  },
  {
   "cell_type": "code",
   "execution_count": 33,
   "metadata": {},
   "outputs": [
    {
     "data": {
      "text/plain": [
       "array([34.78 ,  6.788, 54.48 , 34.828, 32.32 , 21.94 ,  7.758, 52.318,\n",
       "       11.608, 31.772])"
      ]
     },
     "execution_count": 33,
     "metadata": {},
     "output_type": "execute_result"
    }
   ],
   "source": [
    "(event_seconds_log_1[1:] - event_seconds_log_1[:-1])[0:10]"
   ]
  },
  {
   "cell_type": "code",
   "execution_count": 34,
   "metadata": {},
   "outputs": [],
   "source": [
    "event_seconds_log_2 = log_df[log_df[\" Ammo\"].shift() < log_df[\" Ammo\"]][\"Seconds\"].values"
   ]
  },
  {
   "cell_type": "code",
   "execution_count": 35,
   "metadata": {},
   "outputs": [
    {
     "data": {
      "text/plain": [
       "array([34.7785,  6.7873, 54.4793, 34.828 , 32.3205, 21.9394,  7.7572,\n",
       "       52.3173, 11.6084, 31.7706])"
      ]
     },
     "execution_count": 35,
     "metadata": {},
     "output_type": "execute_result"
    }
   ],
   "source": [
    "(event_seconds_log_2[1:] - event_seconds_log_2[:-1])[0:10]"
   ]
  },
  {
   "cell_type": "code",
   "execution_count": 36,
   "metadata": {},
   "outputs": [],
   "source": [
    "event_log_difference = event_seconds_log_1[0] - event_seconds_log_2[0]"
   ]
  },
  {
   "cell_type": "markdown",
   "metadata": {},
   "source": [
    "Test hypothesis about the game state"
   ]
  },
  {
   "cell_type": "code",
   "execution_count": 37,
   "metadata": {},
   "outputs": [],
   "source": [
    "star_columns = [c for c in log_df.columns if 'Enemy' in c and 'Angle' in c]"
   ]
  },
  {
   "cell_type": "code",
   "execution_count": 38,
   "metadata": {},
   "outputs": [],
   "source": [
    "stars_df = (log_df[star_columns] != 0).sum(axis=1).to_frame().copy()"
   ]
  },
  {
   "cell_type": "code",
   "execution_count": 39,
   "metadata": {},
   "outputs": [],
   "source": [
    "stars_df[\"Seconds\"] = log_df[\"Seconds\"]"
   ]
  },
  {
   "cell_type": "code",
   "execution_count": 40,
   "metadata": {},
   "outputs": [],
   "source": [
    "stars_df = stars_df.iloc[1:]"
   ]
  },
  {
   "cell_type": "code",
   "execution_count": 41,
   "metadata": {},
   "outputs": [],
   "source": [
    "all_events = np.array([d['onset'] for d in list(raw.annotations)])"
   ]
  },
  {
   "cell_type": "code",
   "execution_count": 42,
   "metadata": {},
   "outputs": [],
   "source": [
    "all_events_eeg_timestamps = all_events"
   ]
  },
  {
   "cell_type": "code",
   "execution_count": 43,
   "metadata": {},
   "outputs": [],
   "source": [
    "from tqdm import tqdm_notebook"
   ]
  },
  {
   "cell_type": "code",
   "execution_count": 44,
   "metadata": {},
   "outputs": [
    {
     "name": "stderr",
     "output_type": "stream",
     "text": [
      "/home/anatoli/.local/lib/python3.7/site-packages/ipykernel_launcher.py:3: TqdmDeprecationWarning: This function will be removed in tqdm==5.0.0\n",
      "Please use `tqdm.notebook.tqdm` instead of `tqdm.tqdm_notebook`\n",
      "  This is separate from the ipykernel package so we can avoid doing imports until\n"
     ]
    },
    {
     "data": {
      "application/vnd.jupyter.widget-view+json": {
       "model_id": "9e9b2d139b224a33a9d75c69734d8de7",
       "version_major": 2,
       "version_minor": 0
      },
      "text/plain": [
       "HBox(children=(FloatProgress(value=0.0, max=4070.0), HTML(value='')))"
      ]
     },
     "metadata": {},
     "output_type": "display_data"
    },
    {
     "name": "stdout",
     "output_type": "stream",
     "text": [
      "\n"
     ]
    }
   ],
   "source": [
    "stars_df[\"event\"] = -1\n",
    "\n",
    "for i, timestamp in enumerate(tqdm_notebook(all_events_eeg_timestamps)):\n",
    "    stars_df.loc[(stars_df[\"Seconds\"] >= timestamp - event_log_difference - 0.1) & (stars_df[\"Seconds\"] <= timestamp - event_log_difference + 0.1), \"event\"] = int(timestamp * 500)"
   ]
  },
  {
   "cell_type": "code",
   "execution_count": 45,
   "metadata": {},
   "outputs": [],
   "source": [
    "stars_by_event = stars_df.groupby(\"event\")[0].mean().astype(int).iloc[1:].reset_index()"
   ]
  },
  {
   "cell_type": "code",
   "execution_count": 56,
   "metadata": {},
   "outputs": [],
   "source": [
    "events_indices = {v: i for i, v in enumerate(epochs.events.T[0])}"
   ]
  },
  {
   "cell_type": "code",
   "execution_count": 57,
   "metadata": {},
   "outputs": [],
   "source": [
    "epochs_by_stars = {}"
   ]
  },
  {
   "cell_type": "code",
   "execution_count": 58,
   "metadata": {},
   "outputs": [
    {
     "name": "stdout",
     "output_type": "stream",
     "text": [
      "Problem with 48782\n",
      "Problem with 102491\n",
      "Problem with 105612\n",
      "Problem with 515799\n",
      "Problem with 833744\n"
     ]
    }
   ],
   "source": [
    "for i, group_df in stars_by_event.groupby(0)[\"event\"]:\n",
    "    i = {\n",
    "        0: 1,\n",
    "        1: 1,\n",
    "        2: 1,\n",
    "        3: 3,\n",
    "        4: 4,\n",
    "        5: 4\n",
    "    }[i]\n",
    "    if i not in epochs_by_stars:\n",
    "        epochs_by_stars[i] = []\n",
    "    \n",
    "    for row in group_df:\n",
    "        if row not in events_indices:\n",
    "            print(\"Problem with\", row)\n",
    "            break\n",
    "        epochs_by_stars[i].append(epochs_part[events_indices[row]])"
   ]
  },
  {
   "cell_type": "markdown",
   "metadata": {},
   "source": [
    "Check hypothesis for each group"
   ]
  },
  {
   "cell_type": "code",
   "execution_count": 59,
   "metadata": {},
   "outputs": [
    {
     "name": "stdout",
     "output_type": "stream",
     "text": [
      "1 120\n",
      "3 55\n",
      "4 26\n"
     ]
    }
   ],
   "source": [
    "for i in sorted(epochs_by_stars.keys()):\n",
    "    print(i, len(epochs_by_stars[i]))"
   ]
  },
  {
   "cell_type": "code",
   "execution_count": 60,
   "metadata": {},
   "outputs": [
    {
     "data": {
      "text/plain": [
       "<matplotlib.legend.Legend at 0x7fd558f90be0>"
      ]
     },
     "execution_count": 60,
     "metadata": {},
     "output_type": "execute_result"
    },
    {
     "data": {
      "image/png": "[encoded data removed]",
      "text/plain": [
       "<Figure size 432x288 with 1 Axes>"
      ]
     },
     "metadata": {
      "needs_background": "light"
     },
     "output_type": "display_data"
    }
   ],
   "source": [
    "for i in sorted(epochs_by_stars.keys()):\n",
    "    epochs_group = epochs_by_stars[i]\n",
    "    epochs_data = np.vstack([e.get_data().reshape(-1) for e in epochs_group])\n",
    "    epochs_frequencies = np.abs(np.fft.fft(epochs_data, 500, axis=-1))[:, 0:30]\n",
    "    avg_value = round(epochs_frequencies[:, 8:12].mean(axis=0).mean() * 10000, 2)\n",
    "    plt.plot(np.arange(5, 30), epochs_frequencies[:, 5:30].mean(axis=0).reshape(-1), label=f\"{i} Enemies, alpha: {avg_value}\")\n",
    "    \n",
    "plt.axvline(8)\n",
    "plt.axvline(12)\n",
    "plt.legend()"
   ]
  }
 ],
 "metadata": {
  "kernelspec": {
   "display_name": "Python 3",
   "language": "python",
   "name": "python3"
  },
  "language_info": {
   "codemirror_mode": {
    "name": "ipython",
    "version": 3
   },
   "file_extension": ".py",
   "mimetype": "text/x-python",
   "name": "python",
   "nbconvert_exporter": "python",
   "pygments_lexer": "ipython3",
   "version": "3.7.3"
  }
 },
 "nbformat": 4,
 "nbformat_minor": 4
}
